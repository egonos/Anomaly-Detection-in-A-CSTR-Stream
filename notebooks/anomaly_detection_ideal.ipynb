{
 "cells": [
  {
   "cell_type": "code",
   "execution_count": 1,
   "id": "92a0b74b",
   "metadata": {},
   "outputs": [],
   "source": [
    "import pandas as pd\n",
    "import numpy as np\n",
    "import matplotlib.pyplot as plt\n",
    "import seaborn as sns\n",
    "\n",
    "import sys\n",
    "import os\n",
    "\n",
    "sys.path.append(os.path.abspath(\"../src\"))\n",
    "\n",
    "from sklearn.ensemble import IsolationForest\n",
    "from sklearn.preprocessing import StandardScaler\n",
    "from sklearn.metrics import classification_report, confusion_matrix\n",
    "\n",
    "from utils import generate_abnormal_samples, generate_normal_samples, error_summary"
   ]
  },
  {
   "cell_type": "code",
   "execution_count": 2,
   "id": "ba6cc1c0",
   "metadata": {},
   "outputs": [
    {
     "name": "stdout",
     "output_type": "stream",
     "text": [
      "Samples rounded to: 300\n",
      "\n",
      "----- RULE + IF PERFORMANCE -----\n",
      "              precision    recall  f1-score   support\n",
      "\n",
      "           0       1.00      0.85      0.92       700\n",
      "           1       0.75      1.00      0.85       300\n",
      "\n",
      "    accuracy                           0.90      1000\n",
      "   macro avg       0.87      0.93      0.89      1000\n",
      "weighted avg       0.92      0.90      0.90      1000\n",
      "\n"
     ]
    },
    {
     "data": {
      "image/png": "[encoded data removed]",
      "text/plain": [
       "<Figure size 700x500 with 2 Axes>"
      ]
     },
     "metadata": {},
     "output_type": "display_data"
    },
    {
     "name": "stdout",
     "output_type": "stream",
     "text": [
      "----- Error Summary (Rule + IF) -----\n",
      "            Matching Samples  Total Samples  Matching Rate\n",
      "Error Type                                                \n",
      "Ca0_high                  50             50         100.00\n",
      "Ca0_low                   50             50         100.00\n",
      "Q_high                    50             50         100.00\n",
      "Q_low                     50             50         100.00\n",
      "T_high                    50             50         100.00\n",
      "T_low                     50             50         100.00\n",
      "none                     598            700          85.43\n"
     ]
    }
   ],
   "source": [
    "# 1. TRAIN DATA GENERATION (NORMAL)\n",
    "initial_samples = generate_normal_samples(n_samples=10000, input_noise_scale=0)\n",
    "X_train = initial_samples.iloc[:, :-2]\n",
    "\n",
    "# 2. TEST DATA GENERATION (ANOMALY + NORMAL)\n",
    "abnormal_test_samples = generate_abnormal_samples(n_samples=300, input_noise_scale=0)\n",
    "normal_test_samples = generate_normal_samples(n_samples=700, input_noise_scale=0)\n",
    "test_samples = (\n",
    "    pd.concat([abnormal_test_samples, normal_test_samples], axis=0)\n",
    "    .sample(frac=1, random_state=42)\n",
    "    .reset_index(drop=True)\n",
    ")\n",
    "X_test = test_samples.iloc[:, :-2]\n",
    "true_labels = test_samples.is_anomaly.values\n",
    "error_type = test_samples.anomaly_type.values\n",
    "\n",
    "# 3. Q ANOMALY DECISION RULE BASED FILTERING\n",
    "MARGIN = 0.1\n",
    "Q_MIN, Q_MAX = 1 - MARGIN, 1.5 + MARGIN\n",
    "\n",
    "train_q_mask = (X_train[\"Q\"] >= Q_MIN) & (X_train[\"Q\"] <= Q_MAX)\n",
    "test_q_mask = (X_test[\"Q\"] >= Q_MIN) & (X_test[\"Q\"] <= Q_MAX)\n",
    "\n",
    "train_q_anomaly = ~train_q_mask\n",
    "test_q_anomaly = ~test_q_mask\n",
    "\n",
    "X_train_qfiltered = X_train.loc[train_q_mask].drop(columns=[\"Q\"])\n",
    "X_test_qfiltered = X_test.loc[test_q_mask].drop(columns=[\"Q\"])\n",
    "\n",
    "filtered_true_labels = true_labels[test_q_mask]\n",
    "filtered_error_type = error_type[test_q_mask]\n",
    "\n",
    "# 4. SCALING FOR ISOLATION FOREST\n",
    "ss = StandardScaler()\n",
    "X_train_scaled = ss.fit_transform(X_train_qfiltered)\n",
    "X_test_scaled = ss.transform(X_test_qfiltered)\n",
    "\n",
    "# 5. ISOLATION FOREST\n",
    "iso = IsolationForest(random_state=42, contamination=\"auto\").fit(X_train_scaled)\n",
    "preds = np.where(iso.predict(X_test_scaled) == 1, 0, 1)\n",
    "\n",
    "# 6. COMBINED ANOMALY PREDICTIONS\n",
    "final_preds = np.zeros(len(test_samples), dtype=int)\n",
    "final_preds[test_q_anomaly.values] = 1\n",
    "final_preds[test_q_mask.values] = preds\n",
    "\n",
    "# 7. SUMMARY PREDICTIONS\n",
    "print(\"\\n----- RULE + IF PERFORMANCE -----\")\n",
    "print(classification_report(y_true=true_labels, y_pred=final_preds))\n",
    "plt.figure(figsize=(7, 5))\n",
    "sns.heatmap(\n",
    "    confusion_matrix(true_labels, final_preds), annot=True, fmt=\"d\", cmap=\"Blues\"\n",
    ")\n",
    "plt.title(\"Rule + IF - Confusion Matrix\")\n",
    "plt.show()\n",
    "\n",
    "summary = error_summary(true_labels, final_preds, error_type)\n",
    "print(\"----- Error Summary (Rule + IF) -----\")\n",
    "print(summary)"
   ]
  }
 ],
 "metadata": {
  "kernelspec": {
   "display_name": "venv",
   "language": "python",
   "name": "python3"
  },
  "language_info": {
   "codemirror_mode": {
    "name": "ipython",
    "version": 3
   },
   "file_extension": ".py",
   "mimetype": "text/x-python",
   "name": "python",
   "nbconvert_exporter": "python",
   "pygments_lexer": "ipython3",
   "version": "3.9.12"
  }
 },
 "nbformat": 4,
 "nbformat_minor": 5
}
